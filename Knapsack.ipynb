{
 "cells": [
  {
   "cell_type": "code",
   "execution_count": 49,
   "id": "df6777a8",
   "metadata": {},
   "outputs": [],
   "source": [
    "# L=[[poids,valeur]]\n",
    "L=[[3,2],[2,2],[4,5],[3,4],[5,6],[7,4]]\n",
    "C = 12\n",
    "memo = {}"
   ]
  },
  {
   "cell_type": "code",
   "execution_count": 50,
   "id": "34994f15",
   "metadata": {},
   "outputs": [],
   "source": [
    "#Sans memoisation\n",
    "def sac(L, C, i):\n",
    "    if C == 0 or i == 0:\n",
    "        return [], 0\n",
    "    elif L[i-1][0] > C :\n",
    "        return sac(L, C, i-1)\n",
    "    else :\n",
    "        objet_inclus, valeur_inclus = sac (L , C-L[i-1][0],i-1) \n",
    "        objet_noninclus, valeur_noninclus = sac (L ,C , i-1)\n",
    "        if L[i-1][1] + valeur_inclus > valeur_noninclus:\n",
    "            return objet_inclus + L[i-1], valeur_inclus +L[i-1][1]\n",
    "        else:\n",
    "            return objet_noninclus, valeur_noninclus"
   ]
  },
  {
   "cell_type": "code",
   "execution_count": 51,
   "id": "f238bd9c",
   "metadata": {},
   "outputs": [
    {
     "name": "stdout",
     "output_type": "stream",
     "text": [
      "Valeur maximale du sac à dos: ([4, 5, 3, 4, 5, 6], 15)\n"
     ]
    }
   ],
   "source": [
    "resultat = sac(L,C, len(L))\n",
    "print(\"Valeur maximale du sac à dos:\", resultat)"
   ]
  },
  {
   "cell_type": "code",
   "execution_count": 52,
   "id": "7d721d73",
   "metadata": {},
   "outputs": [],
   "source": [
    "#Avec memoisation\n",
    "def sacm(L, C, i,memo):\n",
    "    if (C,i) in memo :\n",
    "        return memo[(C,i)]\n",
    "    if C == 0 or i == 0:\n",
    "        memo[(C,i)]= [],0\n",
    "    elif L[i-1][0] > C :\n",
    "        memo[(C,i)] = sacm(L, C, i-1, memo)\n",
    "    else :\n",
    "        objet_inclus, valeur_inclus = sacm (L , C-L[i-1][0],i-1,memo) \n",
    "        objet_noninclus, valeur_noninclus = sacm (L ,C , i-1,memo)\n",
    "        if L[i-1][1] + valeur_inclus > valeur_noninclus:\n",
    "            memo[(C,i)] = objet_inclus + L[i-1], valeur_inclus +L[i-1][1]\n",
    "        else:\n",
    "            memo[(C,i)] = objet_noninclus, valeur_noninclus\n",
    "    return memo[(C, i)]\n",
    "\n",
    "   "
   ]
  },
  {
   "cell_type": "code",
   "execution_count": 53,
   "id": "1dafdcba",
   "metadata": {},
   "outputs": [
    {
     "name": "stdout",
     "output_type": "stream",
     "text": [
      "Valeur maximale du sac à dos: ([4, 5, 3, 4, 5, 6], 15)\n"
     ]
    }
   ],
   "source": [
    "resultat = sacm(L,C, len(L),memo)\n",
    "print(\"Valeur maximale du sac à dos:\", resultat)"
   ]
  },
  {
   "cell_type": "code",
   "execution_count": 54,
   "id": "f7860fbf",
   "metadata": {},
   "outputs": [
    {
     "data": {
      "text/plain": [
       "{(0, 4): ([], 0),\n",
       " (0, 1): ([], 0),\n",
       " (2, 0): ([], 0),\n",
       " (2, 1): ([], 0),\n",
       " (2, 2): ([2, 2], 2),\n",
       " (2, 3): ([2, 2], 2),\n",
       " (1, 0): ([], 0),\n",
       " (1, 1): ([], 0),\n",
       " (1, 2): ([], 0),\n",
       " (0, 0): ([], 0),\n",
       " (3, 0): ([], 0),\n",
       " (3, 1): ([3, 2], 2),\n",
       " (5, 0): ([], 0),\n",
       " (5, 1): ([3, 2], 2),\n",
       " (5, 2): ([3, 2, 2, 2], 4),\n",
       " (5, 3): ([4, 5], 5),\n",
       " (5, 4): ([2, 2, 3, 4], 6),\n",
       " (5, 5): ([2, 2, 3, 4], 6),\n",
       " (0, 2): ([], 0),\n",
       " (4, 0): ([], 0),\n",
       " (4, 1): ([3, 2], 2),\n",
       " (4, 2): ([3, 2], 2),\n",
       " (4, 3): ([4, 5], 5),\n",
       " (3, 2): ([3, 2], 2),\n",
       " (7, 0): ([], 0),\n",
       " (7, 1): ([3, 2], 2),\n",
       " (7, 2): ([3, 2, 2, 2], 4),\n",
       " (7, 3): ([3, 2, 4, 5], 7),\n",
       " (7, 4): ([4, 5, 3, 4], 9),\n",
       " (6, 0): ([], 0),\n",
       " (9, 0): ([], 0),\n",
       " (9, 1): ([3, 2], 2),\n",
       " (9, 2): ([3, 2, 2, 2], 4),\n",
       " (9, 3): ([3, 2, 2, 2, 4, 5], 9),\n",
       " (6, 1): ([3, 2], 2),\n",
       " (8, 0): ([], 0),\n",
       " (8, 1): ([3, 2], 2),\n",
       " (8, 2): ([3, 2, 2, 2], 4),\n",
       " (10, 0): ([], 0),\n",
       " (10, 1): ([3, 2], 2),\n",
       " (12, 0): ([], 0),\n",
       " (12, 1): ([3, 2], 2),\n",
       " (12, 2): ([3, 2, 2, 2], 4),\n",
       " (12, 3): ([3, 2, 2, 2, 4, 5], 9),\n",
       " (12, 4): ([3, 2, 2, 2, 4, 5, 3, 4], 13),\n",
       " (12, 5): ([4, 5, 3, 4, 5, 6], 15),\n",
       " (12, 6): ([4, 5, 3, 4, 5, 6], 15)}"
      ]
     },
     "execution_count": 54,
     "metadata": {},
     "output_type": "execute_result"
    }
   ],
   "source": [
    "memo"
   ]
  },
  {
   "cell_type": "code",
   "execution_count": null,
   "id": "e95f177d",
   "metadata": {},
   "outputs": [],
   "source": []
  }
 ],
 "metadata": {
  "kernelspec": {
   "display_name": "Python 3 (ipykernel)",
   "language": "python",
   "name": "python3"
  },
  "language_info": {
   "codemirror_mode": {
    "name": "ipython",
    "version": 3
   },
   "file_extension": ".py",
   "mimetype": "text/x-python",
   "name": "python",
   "nbconvert_exporter": "python",
   "pygments_lexer": "ipython3",
   "version": "3.11.0rc2"
  }
 },
 "nbformat": 4,
 "nbformat_minor": 5
}
